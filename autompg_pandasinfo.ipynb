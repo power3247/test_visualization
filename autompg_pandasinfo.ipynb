{
  "nbformat": 4,
  "nbformat_minor": 0,
  "metadata": {
    "colab": {
      "name": "Untitled0.ipynb",
      "provenance": [],
      "authorship_tag": "ABX9TyMtD6xoCbwBZTJ/9yU2L9S7",
      "include_colab_link": true
    },
    "kernelspec": {
      "name": "python3",
      "display_name": "Python 3"
    },
    "language_info": {
      "name": "python"
    }
  },
  "cells": [
    {
      "cell_type": "markdown",
      "metadata": {
        "id": "view-in-github",
        "colab_type": "text"
      },
      "source": [
        "<a href=\"https://colab.research.google.com/github/power3247/test_visualization/blob/master/autompg_pandasinfo.ipynb\" target=\"_parent\"><img src=\"https://colab.research.google.com/assets/colab-badge.svg\" alt=\"Open In Colab\"/></a>"
      ]
    },
    {
      "cell_type": "code",
      "metadata": {
        "colab": {
          "base_uri": "https://localhost:8080/"
        },
        "id": "FxBqzu0fWha4",
        "outputId": "fb0979c6-ceb4-4bd8-a5c4-1911e3af0a2d"
      },
      "source": [
        "!git init"
      ],
      "execution_count": 1,
      "outputs": [
        {
          "output_type": "stream",
          "text": [
            "Initialized empty Git repository in /content/.git/\n"
          ],
          "name": "stdout"
        }
      ]
    },
    {
      "cell_type": "code",
      "metadata": {
        "id": "SFurQvLxWjPF"
      },
      "source": [
        "!git add ."
      ],
      "execution_count": 3,
      "outputs": []
    },
    {
      "cell_type": "code",
      "metadata": {
        "colab": {
          "base_uri": "https://localhost:8080/"
        },
        "id": "hF196t_AWlws",
        "outputId": "22e51acf-bba3-475e-c5d6-d8856bd0e07b"
      },
      "source": [
        "!git commit -m \"first time\""
      ],
      "execution_count": 8,
      "outputs": [
        {
          "output_type": "stream",
          "text": [
            "[master (root-commit) 02d99b1] first time\n",
            " 20 files changed, 51114 insertions(+)\n",
            " create mode 100644 .config/.last_opt_in_prompt.yaml\n",
            " create mode 100644 .config/.last_survey_prompt.yaml\n",
            " create mode 100644 .config/.last_update_check.json\n",
            " create mode 100644 .config/active_config\n",
            " create mode 100644 .config/config_sentinel\n",
            " create mode 100644 .config/configurations/config_default\n",
            " create mode 100644 .config/gce\n",
            " create mode 100644 .config/logs/2021.06.15/13.36.40.402408.log\n",
            " create mode 100644 .config/logs/2021.06.15/13.36.59.704686.log\n",
            " create mode 100644 .config/logs/2021.06.15/13.37.15.895583.log\n",
            " create mode 100644 .config/logs/2021.06.15/13.37.22.745818.log\n",
            " create mode 100644 .config/logs/2021.06.15/13.37.39.858399.log\n",
            " create mode 100644 .config/logs/2021.06.15/13.37.40.569743.log\n",
            " create mode 100644 auto-mpg.csv\n",
            " create mode 100755 sample_data/README.md\n",
            " create mode 100755 sample_data/anscombe.json\n",
            " create mode 100644 sample_data/california_housing_test.csv\n",
            " create mode 100644 sample_data/california_housing_train.csv\n",
            " create mode 100644 sample_data/mnist_test.csv\n",
            " create mode 100644 sample_data/mnist_train_small.csv\n"
          ],
          "name": "stdout"
        }
      ]
    },
    {
      "cell_type": "code",
      "metadata": {
        "id": "20g6yZNlW2U9"
      },
      "source": [
        "!git config --global user.email \"posmane5@gmail.com\""
      ],
      "execution_count": 6,
      "outputs": []
    },
    {
      "cell_type": "code",
      "metadata": {
        "id": "HeYlCtqnW-LU"
      },
      "source": [
        "!git config --global user.name \"Doka\""
      ],
      "execution_count": 7,
      "outputs": []
    },
    {
      "cell_type": "code",
      "metadata": {
        "id": "axyJGie2XFxO"
      },
      "source": [
        "!git remote add main https://github.com/power3247/test_visualization.git"
      ],
      "execution_count": 25,
      "outputs": []
    },
    {
      "cell_type": "code",
      "metadata": {
        "colab": {
          "base_uri": "https://localhost:8080/"
        },
        "id": "jiK2FXWUXVTM",
        "outputId": "e272022a-a45b-4954-9732-0201a11960a0"
      },
      "source": [
        "!git remote"
      ],
      "execution_count": 11,
      "outputs": [
        {
          "output_type": "stream",
          "text": [
            "power3247\n"
          ],
          "name": "stdout"
        }
      ]
    },
    {
      "cell_type": "code",
      "metadata": {
        "colab": {
          "base_uri": "https://localhost:8080/"
        },
        "id": "xXY0xJ8oXd2D",
        "outputId": "546bf743-36e6-4da5-ade3-3081f8891d54"
      },
      "source": [
        "!git status"
      ],
      "execution_count": 12,
      "outputs": [
        {
          "output_type": "stream",
          "text": [
            "On branch master\n",
            "nothing to commit, working tree clean\n"
          ],
          "name": "stdout"
        }
      ]
    },
    {
      "cell_type": "code",
      "metadata": {
        "colab": {
          "base_uri": "https://localhost:8080/"
        },
        "id": "3S0GjxC0XnST",
        "outputId": "0c804fde-2d3d-4b4d-b3ff-db7e4cc70ee7"
      },
      "source": [
        "!git push -u main master\n"
      ],
      "execution_count": 33,
      "outputs": [
        {
          "output_type": "stream",
          "text": [
            "fatal: could not read Username for 'https://github.com': No such device or address\n"
          ],
          "name": "stdout"
        }
      ]
    },
    {
      "cell_type": "code",
      "metadata": {
        "id": "wLLTbcEIXpUS"
      },
      "source": [
        ""
      ],
      "execution_count": null,
      "outputs": []
    }
  ]
}